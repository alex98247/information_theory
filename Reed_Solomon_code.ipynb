{
 "cells": [
  {
   "cell_type": "code",
   "execution_count": 13,
   "metadata": {
    "collapsed": true,
    "pycharm": {
     "is_executing": false
    }
   },
   "outputs": [],
   "source": [
    "import numpy as np\n",
    "import GF\n",
    "import Gauss_method\n",
    "import PolyDivision"
   ]
  },
  {
   "cell_type": "code",
   "execution_count": 14,
   "outputs": [],
   "source": [
    "F = GF.GF(929)\n",
    "#infomation polynom ... + a0*x^2 + a1*x + a0\n",
    "inf_polynom = np.array([3, 2, 1, 1])\n",
    "n = 8\n",
    "k = 4"
   ],
   "metadata": {
    "collapsed": false,
    "pycharm": {
     "name": "#%%\n",
     "is_executing": false
    }
   }
  },
  {
   "cell_type": "markdown",
   "source": [
    "## Encode ## "
   ],
   "metadata": {
    "collapsed": false
   }
  },
  {
   "cell_type": "code",
   "execution_count": 15,
   "outputs": [
    {
     "name": "stdout",
     "text": [
      "Encoded message: [1, 7, 35, 103, 229, 431, 727, 1135]\n"
     ],
     "output_type": "stream"
    }
   ],
   "source": [
    "a = [i for i in range(n)]\n",
    "message = [sum([inf_polynom[len(inf_polynom)-i-1]*ak**i for i in range(len(inf_polynom))]) for ak in a]\n",
    "print(\"Encoded message:\", message)"
   ],
   "metadata": {
    "collapsed": false,
    "pycharm": {
     "name": "#%%\n",
     "is_executing": false
    }
   }
  },
  {
   "cell_type": "markdown",
   "source": [
    "## Decode ## "
   ],
   "metadata": {
    "collapsed": false
   }
  },
  {
   "cell_type": "code",
   "execution_count": 16,
   "outputs": [
    {
     "name": "stdout",
     "text": [
      "Received message: [1, 7, 35, 103, 7, 5, 727, 1135]\nDecoded message: [1, 7, 35, 103, 229, 431, 727, 1135]\n"
     ],
     "output_type": "stream"
    }
   ],
   "source": [
    "def solve_system_galois_field(p, t):\n",
    "    s = int((n-k)/2)\n",
    "    b = np.array([[(-p[i]*t[i]**s)%F.p**F.n] for i in range(n)])\n",
    "    A = np.zeros([n, 2*s+k])\n",
    "    for i in range(n):\n",
    "        for j in range(s):\n",
    "            A[i, j] = (p[i]*t[i]**j)%F.p**F.n\n",
    "        for j in range(k+s):\n",
    "            A[i, s+j] = (-t[i]**j)%F.p**F.n\n",
    "    return Gauss_method.gauss(A, b, F)\n",
    "\n",
    "\n",
    "received_message = [1, 7, 35, 103, 7, 5, 727, 1135]\n",
    "print(\"Received message:\", received_message)\n",
    "U = solve_system_galois_field(received_message, a)\n",
    "Q = list(U[2:][::-1])\n",
    "\n",
    "E = U[0:2][::-1]\n",
    "E = np.insert(E, 0, 1)\n",
    "E = list(E)\n",
    "\n",
    "P, R = PolyDivision.poly_divmod(Q, E, F)\n",
    "message = [sum([P[len(P)-i-1]*ak**i for i in range(len(P))]) for ak in a]\n",
    "print(\"Decoded message:\", message)"
   ],
   "metadata": {
    "collapsed": false,
    "pycharm": {
     "name": "#%%\n",
     "is_executing": false
    }
   }
  }
 ],
 "metadata": {
  "language_info": {
   "codemirror_mode": {
    "name": "ipython",
    "version": 2
   },
   "file_extension": ".py",
   "mimetype": "text/x-python",
   "name": "python",
   "nbconvert_exporter": "python",
   "pygments_lexer": "ipython2",
   "version": "2.7.6"
  },
  "kernelspec": {
   "name": "python3",
   "language": "python",
   "display_name": "Python 3"
  },
  "pycharm": {
   "stem_cell": {
    "cell_type": "raw",
    "source": [],
    "metadata": {
     "collapsed": false
    }
   }
  }
 },
 "nbformat": 4,
 "nbformat_minor": 0
}