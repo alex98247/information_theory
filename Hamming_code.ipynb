{
 "cells": [
  {
   "cell_type": "markdown",
   "source": [
    "# Код Хэмминга #\n",
    "В данной работе будет рассмотрен кодирование и декодирование сообщения, нахождение и справление одиночной ошибки."
   ],
   "metadata": {
    "collapsed": false
   }
  },
  {
   "cell_type": "code",
   "execution_count": 15,
   "outputs": [],
   "source": [
    "import numpy as np\n",
    "\n",
    "n = 7\n",
    "r = int(np.log2(n+1)) if int(np.log2(n+1))==float(np.log2(n+1)) else int(np.log2(n+1))+1\n",
    "k = n-r"
   ],
   "metadata": {
    "collapsed": false,
    "pycharm": {
     "name": "#%%\n",
     "is_executing": false
    }
   }
  },
  {
   "cell_type": "markdown",
   "source": [
    "## Построение проверочной матрицы ## \n",
    "Столбцы проверочной матрицы состоят из всех ненулевых бинарных векторов длины r, каждый вектор встречается ровно один раз."
   ],
   "metadata": {
    "collapsed": false
   }
  },
  {
   "cell_type": "code",
   "execution_count": 16,
   "outputs": [
    {
     "data": {
      "text/plain": "array([[0, 0, 0, 1, 1, 1, 1],\n       [0, 1, 1, 0, 0, 1, 1],\n       [1, 0, 1, 0, 1, 0, 1]])"
     },
     "metadata": {},
     "output_type": "execute_result",
     "execution_count": 16
    }
   ],
   "source": [
    "syndrome_matrix = np.array([list(map(int, format(xi, \"0\"+str(r)+\"b\"))) for xi in range(1, n+1)]).transpose()\n",
    "syndrome_matrix"
   ],
   "metadata": {
    "collapsed": false,
    "pycharm": {
     "name": "#%%\n",
     "is_executing": false
    }
   }
  },
  {
   "cell_type": "markdown",
   "source": [
    "## Построение порождающей матрицы ## \n",
    "Для построения порождающей матрицы выберем подматрицу *syndrome_matrix*, состоящую из столбцов с номерами не из степеней 2. \n",
    "Первая строка полушившейся матрицы <em>A</em> отвечает за последний проверочной бит, вторая за предпоследний и т. д. Исходя из \n",
    "вышесказанного, вставим строки матрицы <em>A</em> в качестве столбцов матрицы *syndrome_matrix* на позиции: последнюю троку на \n",
    "позицию 2^0, предпоследнюю строку на позицию 2^1 и т. д. Остальные столбцы будут столбцами единочной матрицы."
   ],
   "metadata": {
    "collapsed": false
   }
  },
  {
   "cell_type": "code",
   "execution_count": 17,
   "outputs": [
    {
     "data": {
      "text/plain": "array([[1., 1., 1., 0., 0., 0., 0.],\n       [1., 0., 0., 1., 1., 0., 0.],\n       [0., 1., 0., 1., 0., 1., 0.],\n       [1., 1., 0., 1., 0., 0., 1.]])"
     },
     "metadata": {},
     "output_type": "execute_result",
     "execution_count": 17
    }
   ],
   "source": [
    "generator_matrix = np.zeros([k, n])\n",
    "A = syndrome_matrix[:, [x-1 for x in range(1, n+1) if int(np.log2(x)) != float(np.log2(x))]]\n",
    "A = A.transpose()\n",
    "A = np.flip(A, axis=1)\n",
    "for i in range(0, n):\n",
    "    if int(np.log2(i+1)) == float(np.log2(i+1)):\n",
    "        generator_matrix[:, i] = A[:, int(np.log2(i+1))]\n",
    "    else:\n",
    "        generator_matrix[i-len(format(i+1, \"b\")), i] = 1\n",
    "generator_matrix"
   ],
   "metadata": {
    "collapsed": false,
    "pycharm": {
     "name": "#%%\n",
     "is_executing": false
    }
   }
  },
  {
   "cell_type": "markdown",
   "source": [
    "## Кодирование сообщения ## "
   ],
   "metadata": {
    "collapsed": false
   }
  },
  {
   "cell_type": "code",
   "execution_count": 18,
   "outputs": [
    {
     "data": {
      "text/plain": "array([1., 0., 1., 1., 0., 1., 0.])"
     },
     "metadata": {},
     "output_type": "execute_result",
     "execution_count": 18
    }
   ],
   "source": [
    "hamming_message = np.array([1, 0, 1, 0]).dot(generator_matrix)\n",
    "hamming_message = np.array(list(map(lambda x: x%2, hamming_message)))\n",
    "hamming_message"
   ],
   "metadata": {
    "collapsed": false,
    "pycharm": {
     "name": "#%%\n",
     "is_executing": false
    }
   }
  },
  {
   "cell_type": "markdown",
   "source": [
    "## Декодирование сообщения ## "
   ],
   "metadata": {
    "collapsed": false
   }
  },
  {
   "cell_type": "code",
   "execution_count": 19,
   "outputs": [
    {
     "data": {
      "text/plain": "[0, 1, 0]"
     },
     "metadata": {},
     "output_type": "execute_result",
     "execution_count": 19
    }
   ],
   "source": [
    "error_message = np.array([1, 1, 1, 1, 0, 1, 0])\n",
    "syndrome = syndrome_matrix.dot(error_message.transpose())\n",
    "syndrome = list(map(lambda x: x%2, syndrome))\n",
    "syndrome"
   ],
   "metadata": {
    "collapsed": false,
    "pycharm": {
     "name": "#%%\n",
     "is_executing": false
    }
   }
  }
 ],
 "metadata": {
  "language_info": {
   "codemirror_mode": {
    "name": "ipython",
    "version": 2
   },
   "file_extension": ".py",
   "mimetype": "text/x-python",
   "name": "python",
   "nbconvert_exporter": "python",
   "pygments_lexer": "ipython2",
   "version": "2.7.6"
  },
  "kernelspec": {
   "name": "python3",
   "language": "python",
   "display_name": "Python 3"
  },
  "pycharm": {
   "stem_cell": {
    "cell_type": "raw",
    "source": [],
    "metadata": {
     "collapsed": false
    }
   }
  }
 },
 "nbformat": 4,
 "nbformat_minor": 0
}