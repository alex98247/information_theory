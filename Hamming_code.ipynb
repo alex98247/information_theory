{
 "cells": [
  {
   "cell_type": "markdown",
   "source": [
    "# Код Хэмминга #\n",
    "В данной работе будет рассмотрен кодирование и декодирование сообщения, нахождение и справление одиночной ошибки."
   ],
   "metadata": {
    "collapsed": false
   }
  },
  {
   "cell_type": "code",
   "execution_count": 1,
   "outputs": [],
   "source": [
    "import numpy as np\n",
    "\n",
    "message = np.array([1,0,1,0])\n",
    "m = len(message)\n"
   ],
   "metadata": {
    "collapsed": false,
    "pycharm": {
     "name": "#%%\n",
     "is_executing": false
    }
   }
  },
  {
   "cell_type": "markdown",
   "source": [
    "Нахождение k - минимального количества проверочных бит по правилу 2^k >= k+m+1, где m - длина сообщения."
   ],
   "metadata": {
    "collapsed": false
   }
  },
  {
   "cell_type": "code",
   "metadata": {
    "collapsed": true,
    "pycharm": {
     "name": "#%%\n",
     "is_executing": false
    }
   },
   "source": [
    "k = 0\n",
    "while 2**k < k+m+1:\n",
    "   k+=1"
   ],
   "execution_count": 2,
   "outputs": []
  },
  {
   "cell_type": "markdown",
   "source": [
    "## Построение порождающей матрицы ##\n",
    "Порождающая матрица *generator_matrix* будет иметь вид [I | A], где I - единичная матрица размера m x m. "
   ],
   "metadata": {
    "collapsed": false
   }
  },
  {
   "cell_type": "code",
   "execution_count": 3,
   "outputs": [],
   "source": [
    "def get_indexes(n):\n",
    "    indexes = list(range(1,m+k+1))[2**n:2*2**n-1]\n",
    "    for i in range(3*2**n, m+k+1, 2*2**n):\n",
    "        indexes = np.concatenate((indexes, list(range(1,m+k+1))[i-1:i+2**n-1]))\n",
    "    return list(map(int, indexes))"
   ],
   "metadata": {
    "collapsed": false,
    "pycharm": {
     "name": "#%%\n",
     "is_executing": false
    }
   }
  },
  {
   "cell_type": "code",
   "execution_count": 4,
   "outputs": [],
   "source": [
    "A = np.zeros([m, k])\n",
    "for j in range(k):\n",
    "    indexes = list(map(lambda x: x - len(format(x, \"b\"))-1, get_indexes(j)))\n",
    "    for l in indexes:\n",
    "        A[l][j] = 1"
   ],
   "metadata": {
    "collapsed": false,
    "pycharm": {
     "name": "#%%\n",
     "is_executing": false
    }
   }
  },
  {
   "cell_type": "code",
   "execution_count": 5,
   "outputs": [
    {
     "data": {
      "text/plain": "array([[1., 0., 0., 0., 1., 1., 0.],\n       [0., 1., 0., 0., 1., 0., 1.],\n       [0., 0., 1., 0., 0., 1., 1.],\n       [0., 0., 0., 1., 1., 1., 1.]])"
     },
     "metadata": {},
     "output_type": "execute_result",
     "execution_count": 5
    }
   ],
   "source": [
    "generator_matrix = np.concatenate((np.eye(m), A), axis=1)\n",
    "generator_matrix"
   ],
   "metadata": {
    "collapsed": false,
    "pycharm": {
     "name": "#%%\n",
     "is_executing": false
    }
   }
  },
  {
   "cell_type": "code",
   "execution_count": 6,
   "outputs": [
    {
     "data": {
      "text/plain": "array([[1., 1., 0., 1., 1., 0., 0.],\n       [1., 0., 1., 1., 0., 1., 0.],\n       [0., 1., 1., 1., 0., 0., 1.]])"
     },
     "metadata": {},
     "output_type": "execute_result",
     "execution_count": 6
    }
   ],
   "source": [
    "syndrome_matrix = np.concatenate((A.transpose(), np.eye(k)), axis=1)\n",
    "syndrome_matrix"
   ],
   "metadata": {
    "collapsed": false,
    "pycharm": {
     "name": "#%%\n",
     "is_executing": false
    }
   }
  },
  {
   "cell_type": "code",
   "execution_count": 7,
   "outputs": [
    {
     "data": {
      "text/plain": "array([1., 0., 1., 0., 1., 0., 1.])"
     },
     "metadata": {},
     "output_type": "execute_result",
     "execution_count": 7
    }
   ],
   "source": [
    "hamming_message = message.dot(generator_matrix)\n",
    "hamming_message = np.array(list(map(lambda x: x%2, hamming_message)))\n",
    "hamming_message"
   ],
   "metadata": {
    "collapsed": false,
    "pycharm": {
     "name": "#%%\n",
     "is_executing": false
    }
   }
  },
  {
   "cell_type": "code",
   "execution_count": 8,
   "outputs": [
    {
     "data": {
      "text/plain": "[1.0, 0.0, 1.0]"
     },
     "metadata": {},
     "output_type": "execute_result",
     "execution_count": 8
    }
   ],
   "source": [
    "error_message = np.array([1,1,1,0,1,0,1])\n",
    "syndrome = error_message.dot(syndrome_matrix.transpose())\n",
    "syndrome = list(map(lambda x: x%2, syndrome))\n",
    "syndrome"
   ],
   "metadata": {
    "collapsed": false,
    "pycharm": {
     "name": "#%%\n",
     "is_executing": false
    }
   }
  }
 ],
 "metadata": {
  "language_info": {
   "codemirror_mode": {
    "name": "ipython",
    "version": 2
   },
   "file_extension": ".py",
   "mimetype": "text/x-python",
   "name": "python",
   "nbconvert_exporter": "python",
   "pygments_lexer": "ipython2",
   "version": "2.7.6"
  },
  "kernelspec": {
   "name": "python3",
   "language": "python",
   "display_name": "Python 3"
  },
  "pycharm": {
   "stem_cell": {
    "cell_type": "raw",
    "source": [],
    "metadata": {
     "collapsed": false
    }
   }
  }
 },
 "nbformat": 4,
 "nbformat_minor": 0
}