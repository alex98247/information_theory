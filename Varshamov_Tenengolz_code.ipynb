{
 "cells": [
  {
   "cell_type": "code",
   "execution_count": 50,
   "metadata": {
    "collapsed": true,
    "pycharm": {
     "is_executing": false
    }
   },
   "outputs": [],
   "source": [
    "import numpy as np"
   ]
  },
  {
   "cell_type": "markdown",
   "source": [
    "## Ошибка выпадения ## "
   ],
   "metadata": {
    "collapsed": false
   }
  },
  {
   "cell_type": "code",
   "execution_count": 51,
   "outputs": [],
   "source": [
    "message = [1,0,0,0,1]\n",
    "n = 6\n",
    "S = np.array([(i+1)*x for i, x in enumerate(message)]).sum()\n",
    "S_mod = -S % (n+1)"
   ],
   "metadata": {
    "collapsed": false,
    "pycharm": {
     "name": "#%%\n",
     "is_executing": false
    }
   }
  },
  {
   "cell_type": "code",
   "execution_count": 52,
   "outputs": [],
   "source": [
    "def insert(message, skip_count, item):\n",
    "    count = 0\n",
    "    for i in range(len(message)-1, -1, -1):\n",
    "        count += abs(item - message[i])\n",
    "        if count == skip_count:\n",
    "            message.insert(i, item)\n",
    "            break"
   ],
   "metadata": {
    "collapsed": false,
    "pycharm": {
     "name": "#%%\n",
     "is_executing": false
    }
   }
  },
  {
   "cell_type": "code",
   "execution_count": 53,
   "outputs": [
    {
     "name": "stdout",
     "text": [
      "Не определено\n"
     ],
     "output_type": "stream"
    }
   ],
   "source": [
    "if S_mod == 0:\n",
    "    print(message)\n",
    "elif sum(message) >= S_mod:\n",
    "    insert(message, S_mod, 0)\n",
    "    print(message)\n",
    "elif sum(message) <= n- S_mod:\n",
    "    insert(message, n - S_mod, 1)\n",
    "    print(message)\n",
    "else:\n",
    "    print(\"Не определено\")\n"
   ],
   "metadata": {
    "collapsed": false,
    "pycharm": {
     "name": "#%%\n",
     "is_executing": false
    }
   }
  },
  {
   "cell_type": "markdown",
   "source": [
    "## Ошибка вставки ## "
   ],
   "metadata": {
    "collapsed": false
   }
  },
  {
   "cell_type": "code",
   "execution_count": 54,
   "outputs": [],
   "source": [
    "message = [1, 0, 0, 1, 0, 1]\n",
    "n = 5\n",
    "S = np.array([(i+1)*x for i, x in enumerate(message)]).sum()\n",
    "S_mod = -S % (n+1)"
   ],
   "metadata": {
    "collapsed": false,
    "pycharm": {
     "name": "#%%\n",
     "is_executing": false
    }
   }
  },
  {
   "cell_type": "code",
   "execution_count": 55,
   "outputs": [],
   "source": [
    "def delete(message, skip_count, item):\n",
    "    count = 0\n",
    "    for i in range(len(message)-1, -1, -1):\n",
    "        count += abs(item - message[i])\n",
    "        if count > skip_count:\n",
    "            message.pop(i)\n",
    "            break"
   ],
   "metadata": {
    "collapsed": false,
    "pycharm": {
     "name": "#%%\n",
     "is_executing": false
    }
   }
  },
  {
   "cell_type": "code",
   "execution_count": 56,
   "outputs": [
    {
     "data": {
      "text/plain": "[1, 0, 0, 0, 1]"
     },
     "metadata": {},
     "output_type": "execute_result",
     "execution_count": 56
    }
   ],
   "source": [
    "if S_mod == 0 or S_mod == sum(message):\n",
    "    message.pop(0)\n",
    "elif sum(message) > S_mod:\n",
    "    delete(message, S_mod, 0)\n",
    "else:\n",
    "    delete(message, n + 1 - S_mod, 1)\n",
    "message"
   ],
   "metadata": {
    "collapsed": false,
    "pycharm": {
     "name": "#%%\n",
     "is_executing": false
    }
   }
  }
 ],
 "metadata": {
  "language_info": {
   "codemirror_mode": {
    "name": "ipython",
    "version": 2
   },
   "file_extension": ".py",
   "mimetype": "text/x-python",
   "name": "python",
   "nbconvert_exporter": "python",
   "pygments_lexer": "ipython2",
   "version": "2.7.6"
  },
  "kernelspec": {
   "name": "python3",
   "language": "python",
   "display_name": "Python 3"
  },
  "pycharm": {
   "stem_cell": {
    "cell_type": "raw",
    "source": [],
    "metadata": {
     "collapsed": false
    }
   }
  }
 },
 "nbformat": 4,
 "nbformat_minor": 0
}